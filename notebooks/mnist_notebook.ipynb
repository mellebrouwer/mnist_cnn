{
 "cells": [
  {
   "cell_type": "code",
   "execution_count": 1,
   "metadata": {},
   "outputs": [],
   "source": [
    "import idx2numpy\n",
    "import matplotlib.pyplot as plt\n",
    "import numpy as np\n",
    "import pandas as pd\n",
    "import tensorflow as tf\n",
    "\n",
    "from sklearn.linear_model import SGDClassifier\n",
    "from sklearn.model_selection import train_test_split, cross_val_score\n",
    "from sklearn.metrics import accuracy_score, multilabel_confusion_matrix\n",
    "\n",
    "from tensorflow import keras\n",
    "from tensorflow.keras import layers"
   ]
  },
  {
   "cell_type": "code",
   "execution_count": 2,
   "metadata": {},
   "outputs": [],
   "source": [
    "# ---------------------------------\n",
    "# IMPORT MNIST DATASET\n",
    "# ---------------------------------\n",
    "\n",
    "imagefile = '/Users/mellebrouwer/Programmeren/Github/mnist_cnn/data/t10k-images-idx3-ubyte'\n",
    "imagearray = idx2numpy.convert_from_file(imagefile)\n",
    "\n",
    "labelfile = '/Users/mellebrouwer/Programmeren/Github/mnist_cnn/data/t10k-labels-idx1-ubyte'\n",
    "labelarray = idx2numpy.convert_from_file(labelfile)\n",
    "\n",
    "X = imagearray\n",
    "y = labelarray\n",
    "\n",
    "# plt.imshow(imagearray[1], cmap=\"binary\")\n",
    "# plt.show()"
   ]
  },
  {
   "cell_type": "code",
   "execution_count": 3,
   "metadata": {},
   "outputs": [],
   "source": [
    "# ---------------------------------\n",
    "# PREPARE & SPLIT DATASETS\n",
    "# ---------------------------------\n",
    "\n",
    "# Reshape 3D to 2D\n",
    "X = X.reshape((len(X), 28*28), order='F')\n",
    "\n",
    "# Train test split\n",
    "X_train, X_test, y_train, y_test = train_test_split(X, y, stratify=y, random_state=42)"
   ]
  },
  {
   "cell_type": "code",
   "execution_count": 29,
   "metadata": {},
   "outputs": [
    {
     "name": "stdout",
     "output_type": "stream",
     "text": [
      "\n",
      "SVM BASELINE\n",
      "Accuracy: 0.8816\n"
     ]
    }
   ],
   "source": [
    "# ---------------------------------\n",
    "# SIMPLE SVM BASELINE\n",
    "# ---------------------------------\n",
    "\n",
    "model = SGDClassifier(random_state=42)\n",
    "model.fit(X_train, y_train)\n",
    "preds = model.predict(X_test)\n",
    "\n",
    "acc = accuracy_score(y_test, preds)\n",
    "mcm = multilabel_confusion_matrix(y_test, preds)\n",
    "\n",
    "print(\"\\nSVM BASELINE\")\n",
    "print(f\"Accuracy: {acc}\")"
   ]
  },
  {
   "cell_type": "code",
   "execution_count": 28,
   "metadata": {},
   "outputs": [
    {
     "name": "stdout",
     "output_type": "stream",
     "text": [
      "Epoch 1/30\n",
      "94/94 [==============================] - 1s 5ms/step - loss: 18.4229 - sparse_categorical_accuracy: 0.6264 - val_loss: 2.4910 - val_sparse_categorical_accuracy: 0.8573\n",
      "Epoch 2/30\n",
      "94/94 [==============================] - 0s 3ms/step - loss: 2.2004 - sparse_categorical_accuracy: 0.8767 - val_loss: 2.2103 - val_sparse_categorical_accuracy: 0.8620\n",
      "Epoch 3/30\n",
      "94/94 [==============================] - 0s 3ms/step - loss: 1.2908 - sparse_categorical_accuracy: 0.9100 - val_loss: 1.9250 - val_sparse_categorical_accuracy: 0.8913\n",
      "Epoch 4/30\n",
      "94/94 [==============================] - 0s 3ms/step - loss: 0.6959 - sparse_categorical_accuracy: 0.9399 - val_loss: 2.0572 - val_sparse_categorical_accuracy: 0.8867\n",
      "Epoch 5/30\n",
      "94/94 [==============================] - 0s 3ms/step - loss: 0.6157 - sparse_categorical_accuracy: 0.9542 - val_loss: 1.7530 - val_sparse_categorical_accuracy: 0.9120\n",
      "Epoch 6/30\n",
      "94/94 [==============================] - 0s 3ms/step - loss: 0.3790 - sparse_categorical_accuracy: 0.9695 - val_loss: 2.5063 - val_sparse_categorical_accuracy: 0.8880\n",
      "Epoch 7/30\n",
      "94/94 [==============================] - 0s 3ms/step - loss: 0.4323 - sparse_categorical_accuracy: 0.9629 - val_loss: 2.0070 - val_sparse_categorical_accuracy: 0.9147\n",
      "Epoch 8/30\n",
      "94/94 [==============================] - 0s 3ms/step - loss: 0.3442 - sparse_categorical_accuracy: 0.9713 - val_loss: 1.9531 - val_sparse_categorical_accuracy: 0.9127\n",
      "Epoch 00008: early stopping\n",
      "NEURAL NET BASELINE\n",
      "Accuracy: 0.9284\n"
     ]
    }
   ],
   "source": [
    "# ---------------------------------\n",
    "# SIMPLE NEURAL NET BASELINE\n",
    "# ---------------------------------\n",
    "\n",
    "# Input shape & random state\n",
    "tf.random.set_seed(0)\n",
    "_, input_shape = X_train.shape\n",
    "\n",
    "# Build model\n",
    "model = keras.Sequential([\n",
    "                          keras.Input(shape=(input_shape,)),\n",
    "                          layers.Dense(128, activation='relu'),\n",
    "                          layers.Dense(128, activation='relu'),\n",
    "                          layers.Dense(10, activation=\"softmax\"),\n",
    "                          ])\n",
    "\n",
    "# Compile model\n",
    "model.compile(\n",
    "             optimizer=\"rmsprop\",\n",
    "             loss=\"sparse_categorical_crossentropy\",\n",
    "             metrics=[\"sparse_categorical_accuracy\"],\n",
    "             )\n",
    "\n",
    "# Set early stopping\n",
    "early_stop = [keras.callbacks.EarlyStopping(\n",
    "                    monitor=\"val_loss\",\n",
    "                    min_delta=1e-2,\n",
    "                    patience=3,\n",
    "                    verbose=1,\n",
    "                    )]\n",
    "    \n",
    "# Train model\n",
    "history = model.fit(\n",
    "                    X_train,\n",
    "                    y_train,\n",
    "                    batch_size=64,\n",
    "                    epochs=30,\n",
    "                    callbacks=early_stop,\n",
    "                    validation_split=0.2,\n",
    "                    )\n",
    "\n",
    "# Test model\n",
    "preds = model.predict(X_test)\n",
    "\n",
    "# Conver softmax probabilities to integers\n",
    "preds = np.argmax(preds,axis=-1)\n",
    "\n",
    "acc = accuracy_score(y_test, preds)\n",
    "mcm = multilabel_confusion_matrix(y_test, preds)\n",
    "\n",
    "print(\"\\nNEURAL NET BASELINE\")\n",
    "print(f\"Accuracy: {acc}\")\n"
   ]
  },
  {
   "cell_type": "code",
   "execution_count": 16,
   "metadata": {},
   "outputs": [
    {
     "data": {
      "text/plain": [
       "(2500,)"
      ]
     },
     "execution_count": 16,
     "metadata": {},
     "output_type": "execute_result"
    }
   ],
   "source": []
  },
  {
   "cell_type": "code",
   "execution_count": null,
   "metadata": {},
   "outputs": [],
   "source": []
  }
 ],
 "metadata": {
  "kernelspec": {
   "display_name": "Python 3",
   "language": "python",
   "name": "python3"
  },
  "language_info": {
   "codemirror_mode": {
    "name": "ipython",
    "version": 3
   },
   "file_extension": ".py",
   "mimetype": "text/x-python",
   "name": "python",
   "nbconvert_exporter": "python",
   "pygments_lexer": "ipython3",
   "version": "3.8.7"
  }
 },
 "nbformat": 4,
 "nbformat_minor": 4
}
